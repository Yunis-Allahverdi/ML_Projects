{
 "cells": [
  {
   "cell_type": "code",
   "execution_count": 1087,
   "id": "ebaa1d34",
   "metadata": {},
   "outputs": [
    {
     "data": {
      "text/html": [
       "<div>\n",
       "<style scoped>\n",
       "    .dataframe tbody tr th:only-of-type {\n",
       "        vertical-align: middle;\n",
       "    }\n",
       "\n",
       "    .dataframe tbody tr th {\n",
       "        vertical-align: top;\n",
       "    }\n",
       "\n",
       "    .dataframe thead th {\n",
       "        text-align: right;\n",
       "    }\n",
       "</style>\n",
       "<table border=\"1\" class=\"dataframe\">\n",
       "  <thead>\n",
       "    <tr style=\"text-align: right;\">\n",
       "      <th></th>\n",
       "      <th>Age</th>\n",
       "      <th>Gender</th>\n",
       "      <th>Education Level</th>\n",
       "      <th>Job Title</th>\n",
       "      <th>Years of Experience</th>\n",
       "      <th>Salary</th>\n",
       "    </tr>\n",
       "  </thead>\n",
       "  <tbody>\n",
       "    <tr>\n",
       "      <th>0</th>\n",
       "      <td>32.0</td>\n",
       "      <td>Male</td>\n",
       "      <td>Bachelor's</td>\n",
       "      <td>Software Engineer</td>\n",
       "      <td>5.0</td>\n",
       "      <td>90000.0</td>\n",
       "    </tr>\n",
       "    <tr>\n",
       "      <th>1</th>\n",
       "      <td>28.0</td>\n",
       "      <td>Female</td>\n",
       "      <td>Master's</td>\n",
       "      <td>Data Analyst</td>\n",
       "      <td>3.0</td>\n",
       "      <td>65000.0</td>\n",
       "    </tr>\n",
       "    <tr>\n",
       "      <th>2</th>\n",
       "      <td>45.0</td>\n",
       "      <td>Male</td>\n",
       "      <td>PhD</td>\n",
       "      <td>Senior Manager</td>\n",
       "      <td>15.0</td>\n",
       "      <td>150000.0</td>\n",
       "    </tr>\n",
       "    <tr>\n",
       "      <th>3</th>\n",
       "      <td>36.0</td>\n",
       "      <td>Female</td>\n",
       "      <td>Bachelor's</td>\n",
       "      <td>Sales Associate</td>\n",
       "      <td>7.0</td>\n",
       "      <td>60000.0</td>\n",
       "    </tr>\n",
       "    <tr>\n",
       "      <th>4</th>\n",
       "      <td>52.0</td>\n",
       "      <td>Male</td>\n",
       "      <td>Master's</td>\n",
       "      <td>Director</td>\n",
       "      <td>20.0</td>\n",
       "      <td>200000.0</td>\n",
       "    </tr>\n",
       "  </tbody>\n",
       "</table>\n",
       "</div>"
      ],
      "text/plain": [
       "    Age  Gender Education Level          Job Title  Years of Experience  \\\n",
       "0  32.0    Male      Bachelor's  Software Engineer                  5.0   \n",
       "1  28.0  Female        Master's       Data Analyst                  3.0   \n",
       "2  45.0    Male             PhD     Senior Manager                 15.0   \n",
       "3  36.0  Female      Bachelor's    Sales Associate                  7.0   \n",
       "4  52.0    Male        Master's           Director                 20.0   \n",
       "\n",
       "     Salary  \n",
       "0   90000.0  \n",
       "1   65000.0  \n",
       "2  150000.0  \n",
       "3   60000.0  \n",
       "4  200000.0  "
      ]
     },
     "execution_count": 1087,
     "metadata": {},
     "output_type": "execute_result"
    }
   ],
   "source": [
    "import pandas as pd\n",
    "import matplotlib.pyplot as plt\n",
    "from sklearn.preprocessing import LabelEncoder\n",
    "from sklearn.model_selection import train_test_split\n",
    "from sklearn.linear_model import LinearRegression\n",
    "\n",
    "df = pd.read_csv('salary_data.csv')\n",
    "\n",
    "df.head(5)"
   ]
  },
  {
   "cell_type": "code",
   "execution_count": 1088,
   "id": "cccf9d8e",
   "metadata": {},
   "outputs": [
    {
     "name": "stdout",
     "output_type": "stream",
     "text": [
      "<class 'pandas.core.frame.DataFrame'>\n",
      "Index: 1787 entries, 0 to 6631\n",
      "Data columns (total 6 columns):\n",
      " #   Column               Non-Null Count  Dtype  \n",
      "---  ------               --------------  -----  \n",
      " 0   Age                  1787 non-null   float64\n",
      " 1   Gender               1787 non-null   object \n",
      " 2   Education Level      1787 non-null   object \n",
      " 3   Job Title            1787 non-null   object \n",
      " 4   Years of Experience  1787 non-null   float64\n",
      " 5   Salary               1787 non-null   float64\n",
      "dtypes: float64(3), object(3)\n",
      "memory usage: 97.7+ KB\n"
     ]
    }
   ],
   "source": [
    "df = df.drop_duplicates()\n",
    "df = df.dropna()\n",
    "df.info()"
   ]
  },
  {
   "cell_type": "code",
   "execution_count": 1089,
   "id": "99cb993c",
   "metadata": {},
   "outputs": [
    {
     "data": {
      "image/png": "[encoded data removed]",
      "text/plain": [
       "<Figure size 640x480 with 1 Axes>"
      ]
     },
     "metadata": {},
     "output_type": "display_data"
    }
   ],
   "source": [
    "plt.scatter(df['Age'], df['Salary'])\n",
    "plt.show()"
   ]
  },
  {
   "cell_type": "code",
   "execution_count": 1090,
   "id": "f05f9130",
   "metadata": {},
   "outputs": [
    {
     "data": {
      "image/png": "[encoded data removed]",
      "text/plain": [
       "<Figure size 640x480 with 1 Axes>"
      ]
     },
     "metadata": {},
     "output_type": "display_data"
    }
   ],
   "source": [
    "plt.scatter(df['Years of Experience'], df['Salary'])\n",
    "plt.show()"
   ]
  },
  {
   "cell_type": "code",
   "execution_count": 1091,
   "id": "0541a10d",
   "metadata": {},
   "outputs": [
    {
     "data": {
      "text/plain": [
       "(array(['Software Engineer', 'Data Analyst', 'Senior Manager',\n",
       "        'Sales Associate', 'Director', 'Marketing Analyst',\n",
       "        'Product Manager', 'Sales Manager', 'Marketing Coordinator',\n",
       "        'Senior Scientist', 'Software Developer', 'HR Manager',\n",
       "        'Financial Analyst', 'Project Manager', 'Customer Service Rep',\n",
       "        'Operations Manager', 'Marketing Manager', 'Senior Engineer',\n",
       "        'Data Entry Clerk', 'Sales Director', 'Business Analyst',\n",
       "        'VP of Operations', 'IT Support', 'Recruiter', 'Financial Manager',\n",
       "        'Social Media Specialist', 'Software Manager', 'Junior Developer',\n",
       "        'Senior Consultant', 'Product Designer', 'CEO', 'Accountant',\n",
       "        'Data Scientist', 'Marketing Specialist', 'Technical Writer',\n",
       "        'HR Generalist', 'Project Engineer', 'Customer Success Rep',\n",
       "        'Sales Executive', 'UX Designer', 'Operations Director',\n",
       "        'Network Engineer', 'Administrative Assistant',\n",
       "        'Strategy Consultant', 'Copywriter', 'Account Manager',\n",
       "        'Director of Marketing', 'Help Desk Analyst',\n",
       "        'Customer Service Manager', 'Business Intelligence Analyst',\n",
       "        'Event Coordinator', 'VP of Finance', 'Graphic Designer',\n",
       "        'UX Researcher', 'Social Media Manager', 'Director of Operations',\n",
       "        'Senior Data Scientist', 'Junior Accountant',\n",
       "        'Digital Marketing Manager', 'IT Manager',\n",
       "        'Customer Service Representative', 'Business Development Manager',\n",
       "        'Senior Financial Analyst', 'Web Developer', 'Research Director',\n",
       "        'Technical Support Specialist', 'Creative Director',\n",
       "        'Senior Software Engineer', 'Human Resources Director',\n",
       "        'Content Marketing Manager', 'Technical Recruiter',\n",
       "        'Sales Representative', 'Chief Technology Officer',\n",
       "        'Junior Designer', 'Financial Advisor', 'Junior Account Manager',\n",
       "        'Senior Project Manager', 'Principal Scientist',\n",
       "        'Supply Chain Manager', 'Senior Marketing Manager',\n",
       "        'Training Specialist', 'Research Scientist',\n",
       "        'Junior Software Developer', 'Public Relations Manager',\n",
       "        'Operations Analyst', 'Product Marketing Manager',\n",
       "        'Senior HR Manager', 'Junior Web Developer',\n",
       "        'Senior Project Coordinator', 'Chief Data Officer',\n",
       "        'Digital Content Producer', 'IT Support Specialist',\n",
       "        'Senior Marketing Analyst', 'Customer Success Manager',\n",
       "        'Senior Graphic Designer', 'Software Project Manager',\n",
       "        'Supply Chain Analyst', 'Senior Business Analyst',\n",
       "        'Junior Marketing Analyst', 'Office Manager', 'Principal Engineer',\n",
       "        'Junior HR Generalist', 'Senior Product Manager',\n",
       "        'Junior Operations Analyst', 'Senior HR Generalist',\n",
       "        'Sales Operations Manager', 'Senior Software Developer',\n",
       "        'Junior Web Designer', 'Senior Training Specialist',\n",
       "        'Senior Research Scientist', 'Junior Sales Representative',\n",
       "        'Junior Marketing Manager', 'Junior Data Analyst',\n",
       "        'Senior Product Marketing Manager', 'Junior Business Analyst',\n",
       "        'Senior Sales Manager', 'Junior Marketing Specialist',\n",
       "        'Junior Project Manager', 'Senior Accountant', 'Director of Sales',\n",
       "        'Junior Recruiter', 'Senior Business Development Manager',\n",
       "        'Senior Product Designer', 'Junior Customer Support Specialist',\n",
       "        'Senior IT Support Specialist', 'Junior Financial Analyst',\n",
       "        'Senior Operations Manager', 'Director of Human Resources',\n",
       "        'Junior Software Engineer', 'Senior Sales Representative',\n",
       "        'Director of Product Management', 'Junior Copywriter',\n",
       "        'Senior Marketing Coordinator', 'Senior Human Resources Manager',\n",
       "        'Junior Business Development Associate', 'Senior Account Manager',\n",
       "        'Senior Researcher', 'Junior HR Coordinator',\n",
       "        'Director of Finance', 'Junior Marketing Coordinator',\n",
       "        'Junior Data Scientist', 'Senior Operations Analyst',\n",
       "        'Senior Human Resources Coordinator', 'Senior UX Designer',\n",
       "        'Junior Product Manager', 'Senior Marketing Specialist',\n",
       "        'Senior IT Project Manager', 'Senior Quality Assurance Analyst',\n",
       "        'Director of Sales and Marketing', 'Senior Account Executive',\n",
       "        'Director of Business Development', 'Junior Social Media Manager',\n",
       "        'Senior Human Resources Specialist', 'Senior Data Analyst',\n",
       "        'Director of Human Capital', 'Junior Advertising Coordinator',\n",
       "        'Junior UX Designer', 'Senior Marketing Director',\n",
       "        'Senior IT Consultant', 'Senior Financial Advisor',\n",
       "        'Junior Business Operations Analyst',\n",
       "        'Junior Social Media Specialist',\n",
       "        'Senior Product Development Manager', 'Junior Operations Manager',\n",
       "        'Senior Software Architect', 'Junior Research Scientist',\n",
       "        'Senior Financial Manager', 'Senior HR Specialist',\n",
       "        'Senior Data Engineer', 'Junior Operations Coordinator',\n",
       "        'Director of HR', 'Senior Operations Coordinator',\n",
       "        'Junior Financial Advisor', 'Director of Engineering',\n",
       "        'Software Engineer Manager', 'Back end Developer',\n",
       "        'Senior Project Engineer', 'Full Stack Engineer',\n",
       "        'Front end Developer', 'Front End Developer',\n",
       "        'Director of Data Science', 'Human Resources Coordinator',\n",
       "        'Junior Sales Associate', 'Human Resources Manager',\n",
       "        'Juniour HR Generalist', 'Juniour HR Coordinator',\n",
       "        'Digital Marketing Specialist', 'Receptionist',\n",
       "        'Marketing Director', 'Social Media Man', 'Delivery Driver'],\n",
       "       dtype=object),\n",
       " 191)"
      ]
     },
     "execution_count": 1091,
     "metadata": {},
     "output_type": "execute_result"
    }
   ],
   "source": [
    "df['Job Title'].unique(), len(df['Job Title'].unique())\n",
    "# Job title feature has a lot features therefore, we need to drop that column for linear regression"
   ]
  },
  {
   "cell_type": "code",
   "execution_count": 1092,
   "id": "b23acf8f",
   "metadata": {},
   "outputs": [
    {
     "data": {
      "text/plain": [
       "(array([\"Bachelor's\", \"Master's\", 'PhD', \"Bachelor's Degree\",\n",
       "        \"Master's Degree\", 'High School', 'phD'], dtype=object),\n",
       " 7)"
      ]
     },
     "execution_count": 1092,
     "metadata": {},
     "output_type": "execute_result"
    }
   ],
   "source": [
    "df['Education Level'].unique(), len(df['Education Level'].unique())"
   ]
  },
  {
   "cell_type": "code",
   "execution_count": 1093,
   "id": "832e10ea",
   "metadata": {},
   "outputs": [
    {
     "data": {
      "text/plain": [
       "array([\"Bachelor's\", \"Master's\", 'PhD', 'High School'], dtype=object)"
      ]
     },
     "execution_count": 1093,
     "metadata": {},
     "output_type": "execute_result"
    }
   ],
   "source": [
    "# a few category in the feature are the duplicate of another, needed to clean them\n",
    "\n",
    "mapping = {\n",
    "    \"Bachelor's Degree\" : \"Bachelor's\",\n",
    "    \"phD\": \"PhD\",\n",
    "    \"Master's Degree\" : \"Master's\"\n",
    "\n",
    "}\n",
    "df['Education Level'] = df['Education Level'].replace(mapping)\n",
    "\n",
    "df['Education Level'].unique()"
   ]
  },
  {
   "cell_type": "code",
   "execution_count": 1094,
   "id": "07b758d6",
   "metadata": {},
   "outputs": [
    {
     "data": {
      "text/html": [
       "<div>\n",
       "<style scoped>\n",
       "    .dataframe tbody tr th:only-of-type {\n",
       "        vertical-align: middle;\n",
       "    }\n",
       "\n",
       "    .dataframe tbody tr th {\n",
       "        vertical-align: top;\n",
       "    }\n",
       "\n",
       "    .dataframe thead th {\n",
       "        text-align: right;\n",
       "    }\n",
       "</style>\n",
       "<table border=\"1\" class=\"dataframe\">\n",
       "  <thead>\n",
       "    <tr style=\"text-align: right;\">\n",
       "      <th></th>\n",
       "      <th>Age</th>\n",
       "      <th>Gender</th>\n",
       "      <th>Job Title</th>\n",
       "      <th>Years of Experience</th>\n",
       "      <th>Salary</th>\n",
       "      <th>Education Level_Bachelor's</th>\n",
       "      <th>Education Level_High School</th>\n",
       "      <th>Education Level_Master's</th>\n",
       "      <th>Education Level_PhD</th>\n",
       "    </tr>\n",
       "  </thead>\n",
       "  <tbody>\n",
       "    <tr>\n",
       "      <th>0</th>\n",
       "      <td>32.0</td>\n",
       "      <td>1</td>\n",
       "      <td>Software Engineer</td>\n",
       "      <td>5.0</td>\n",
       "      <td>90000.0</td>\n",
       "      <td>True</td>\n",
       "      <td>False</td>\n",
       "      <td>False</td>\n",
       "      <td>False</td>\n",
       "    </tr>\n",
       "    <tr>\n",
       "      <th>1</th>\n",
       "      <td>28.0</td>\n",
       "      <td>0</td>\n",
       "      <td>Data Analyst</td>\n",
       "      <td>3.0</td>\n",
       "      <td>65000.0</td>\n",
       "      <td>False</td>\n",
       "      <td>False</td>\n",
       "      <td>True</td>\n",
       "      <td>False</td>\n",
       "    </tr>\n",
       "    <tr>\n",
       "      <th>2</th>\n",
       "      <td>45.0</td>\n",
       "      <td>1</td>\n",
       "      <td>Senior Manager</td>\n",
       "      <td>15.0</td>\n",
       "      <td>150000.0</td>\n",
       "      <td>False</td>\n",
       "      <td>False</td>\n",
       "      <td>False</td>\n",
       "      <td>True</td>\n",
       "    </tr>\n",
       "    <tr>\n",
       "      <th>3</th>\n",
       "      <td>36.0</td>\n",
       "      <td>0</td>\n",
       "      <td>Sales Associate</td>\n",
       "      <td>7.0</td>\n",
       "      <td>60000.0</td>\n",
       "      <td>True</td>\n",
       "      <td>False</td>\n",
       "      <td>False</td>\n",
       "      <td>False</td>\n",
       "    </tr>\n",
       "    <tr>\n",
       "      <th>4</th>\n",
       "      <td>52.0</td>\n",
       "      <td>1</td>\n",
       "      <td>Director</td>\n",
       "      <td>20.0</td>\n",
       "      <td>200000.0</td>\n",
       "      <td>False</td>\n",
       "      <td>False</td>\n",
       "      <td>True</td>\n",
       "      <td>False</td>\n",
       "    </tr>\n",
       "    <tr>\n",
       "      <th>...</th>\n",
       "      <td>...</td>\n",
       "      <td>...</td>\n",
       "      <td>...</td>\n",
       "      <td>...</td>\n",
       "      <td>...</td>\n",
       "      <td>...</td>\n",
       "      <td>...</td>\n",
       "      <td>...</td>\n",
       "      <td>...</td>\n",
       "    </tr>\n",
       "    <tr>\n",
       "      <th>6623</th>\n",
       "      <td>43.0</td>\n",
       "      <td>0</td>\n",
       "      <td>Digital Marketing Manager</td>\n",
       "      <td>15.0</td>\n",
       "      <td>150000.0</td>\n",
       "      <td>False</td>\n",
       "      <td>False</td>\n",
       "      <td>True</td>\n",
       "      <td>False</td>\n",
       "    </tr>\n",
       "    <tr>\n",
       "      <th>6624</th>\n",
       "      <td>27.0</td>\n",
       "      <td>1</td>\n",
       "      <td>Sales Manager</td>\n",
       "      <td>2.0</td>\n",
       "      <td>40000.0</td>\n",
       "      <td>False</td>\n",
       "      <td>True</td>\n",
       "      <td>False</td>\n",
       "      <td>False</td>\n",
       "    </tr>\n",
       "    <tr>\n",
       "      <th>6625</th>\n",
       "      <td>33.0</td>\n",
       "      <td>0</td>\n",
       "      <td>Director of Marketing</td>\n",
       "      <td>8.0</td>\n",
       "      <td>80000.0</td>\n",
       "      <td>True</td>\n",
       "      <td>False</td>\n",
       "      <td>False</td>\n",
       "      <td>False</td>\n",
       "    </tr>\n",
       "    <tr>\n",
       "      <th>6628</th>\n",
       "      <td>37.0</td>\n",
       "      <td>1</td>\n",
       "      <td>Sales Director</td>\n",
       "      <td>7.0</td>\n",
       "      <td>90000.0</td>\n",
       "      <td>True</td>\n",
       "      <td>False</td>\n",
       "      <td>False</td>\n",
       "      <td>False</td>\n",
       "    </tr>\n",
       "    <tr>\n",
       "      <th>6631</th>\n",
       "      <td>30.0</td>\n",
       "      <td>0</td>\n",
       "      <td>Sales Manager</td>\n",
       "      <td>5.0</td>\n",
       "      <td>70000.0</td>\n",
       "      <td>True</td>\n",
       "      <td>False</td>\n",
       "      <td>False</td>\n",
       "      <td>False</td>\n",
       "    </tr>\n",
       "  </tbody>\n",
       "</table>\n",
       "<p>1787 rows × 9 columns</p>\n",
       "</div>"
      ],
      "text/plain": [
       "       Age  Gender                  Job Title  Years of Experience    Salary  \\\n",
       "0     32.0       1          Software Engineer                  5.0   90000.0   \n",
       "1     28.0       0               Data Analyst                  3.0   65000.0   \n",
       "2     45.0       1             Senior Manager                 15.0  150000.0   \n",
       "3     36.0       0            Sales Associate                  7.0   60000.0   \n",
       "4     52.0       1                   Director                 20.0  200000.0   \n",
       "...    ...     ...                        ...                  ...       ...   \n",
       "6623  43.0       0  Digital Marketing Manager                 15.0  150000.0   \n",
       "6624  27.0       1              Sales Manager                  2.0   40000.0   \n",
       "6625  33.0       0      Director of Marketing                  8.0   80000.0   \n",
       "6628  37.0       1             Sales Director                  7.0   90000.0   \n",
       "6631  30.0       0              Sales Manager                  5.0   70000.0   \n",
       "\n",
       "      Education Level_Bachelor's  Education Level_High School  \\\n",
       "0                           True                        False   \n",
       "1                          False                        False   \n",
       "2                          False                        False   \n",
       "3                           True                        False   \n",
       "4                          False                        False   \n",
       "...                          ...                          ...   \n",
       "6623                       False                        False   \n",
       "6624                       False                         True   \n",
       "6625                        True                        False   \n",
       "6628                        True                        False   \n",
       "6631                        True                        False   \n",
       "\n",
       "      Education Level_Master's  Education Level_PhD  \n",
       "0                        False                False  \n",
       "1                         True                False  \n",
       "2                        False                 True  \n",
       "3                        False                False  \n",
       "4                         True                False  \n",
       "...                        ...                  ...  \n",
       "6623                      True                False  \n",
       "6624                     False                False  \n",
       "6625                     False                False  \n",
       "6628                     False                False  \n",
       "6631                     False                False  \n",
       "\n",
       "[1787 rows x 9 columns]"
      ]
     },
     "execution_count": 1094,
     "metadata": {},
     "output_type": "execute_result"
    }
   ],
   "source": [
    "# Gender, education level and job title are categorical features, encoding needed.\n",
    "\n",
    "# Label encoding used for binary features\n",
    "le = LabelEncoder()\n",
    "df['Gender'] = le.fit_transform(df['Gender'])\n",
    "\n",
    "# One-hot encoding used for multi-class features\n",
    "df = pd.get_dummies(df, columns=['Education Level'])\n",
    "df"
   ]
  },
  {
   "cell_type": "code",
   "execution_count": 1095,
   "id": "953a1b64",
   "metadata": {},
   "outputs": [],
   "source": [
    "X = df.drop(columns=['Salary', 'Job Title'])\n",
    "y = df['Salary']\n",
    "\n",
    "X_train, X_test, y_train, y_test = train_test_split(X, y, test_size=0.3)"
   ]
  },
  {
   "cell_type": "code",
   "execution_count": 1096,
   "id": "f9c2bac9",
   "metadata": {},
   "outputs": [
    {
     "data": {
      "text/plain": [
       "0.7555547538841227"
      ]
     },
     "execution_count": 1096,
     "metadata": {},
     "output_type": "execute_result"
    }
   ],
   "source": [
    "model = LinearRegression()\n",
    "model.fit(X_train, y_train)\n",
    "\n",
    "model.score(X_test, y_test)"
   ]
  },
  {
   "cell_type": "code",
   "execution_count": 1097,
   "id": "ecd9c96f",
   "metadata": {},
   "outputs": [
    {
     "data": {
      "text/plain": [
       "array([  -281.93947522,   6200.45565781,   5458.21793339,  -3263.63974481,\n",
       "       -31825.13855289,  13039.31028654,  22049.46801116])"
      ]
     },
     "execution_count": 1097,
     "metadata": {},
     "output_type": "execute_result"
    }
   ],
   "source": [
    "model.coef_"
   ]
  }
 ],
 "metadata": {
  "kernelspec": {
   "display_name": "Python 3",
   "language": "python",
   "name": "python3"
  },
  "language_info": {
   "codemirror_mode": {
    "name": "ipython",
    "version": 3
   },
   "file_extension": ".py",
   "mimetype": "text/x-python",
   "name": "python",
   "nbconvert_exporter": "python",
   "pygments_lexer": "ipython3",
   "version": "3.12.4"
  }
 },
 "nbformat": 4,
 "nbformat_minor": 5
}
